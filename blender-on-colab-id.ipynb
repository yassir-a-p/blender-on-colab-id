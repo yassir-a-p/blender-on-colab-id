{
  "nbformat": 4,
  "nbformat_minor": 0,
  "metadata": {
    "colab": {
      "name": "blender-on-colab-id.ipynb",
      "private_outputs": true,
      "provenance": [],
      "collapsed_sections": [],
      "include_colab_link": true
    },
    "kernelspec": {
      "name": "python3",
      "display_name": "Python 3"
    },
    "accelerator": "GPU"
  },
  "cells": [
    {
      "cell_type": "markdown",
      "metadata": {
        "id": "view-in-github",
        "colab_type": "text"
      },
      "source": [
        "<a href=\"https://colab.research.google.com/github/yassir-a-p/blender-on-colab-id/blob/main/blender-on-colab-id.ipynb\" target=\"_parent\"><img src=\"https://colab.research.google.com/assets/colab-badge.svg\" alt=\"Open In Colab\"/></a>"
      ]
    },
    {
      "cell_type": "markdown",
      "metadata": {
        "id": "gzVQ6YyUDzNc"
      },
      "source": [
        "# Cek tipe GPU/kartu grafis"
      ]
    },
    {
      "cell_type": "code",
      "metadata": {
        "id": "9nvYnQUVD63c"
      },
      "source": [
        "!nvidia-smi --query-gpu=gpu_name,driver_version,memory.total --format=csv "
      ],
      "execution_count": null,
      "outputs": []
    },
    {
      "cell_type": "markdown",
      "metadata": {
        "id": "MNd7jnnSkuUD"
      },
      "source": [
        "#Persiapan\n",
        "Tentukan versi blender dan *path*/alamat di mana berkas blend yang akan di*render*: upload langsung atau akses file di Google Drive.\n",
        "Atur dan isi, kemudian jalankan kode."
      ]
    },
    {
      "cell_type": "code",
      "metadata": {
        "id": "8dFNjYGTgNjR",
        "cellView": "form"
      },
      "source": [
        "#@title Pengaturan Awal\n",
        "#@markdown Atur versi Blender yang akan dipakai dan pengaturan lainnya\n",
        "\n",
        "blender_version = 'blender2.92.0' #@param [\"blender2.92.0\", \"blender2.91.2\", \"blender2.90.1\", \"blender2.83.13\", \"blender2.82a\", \"blender2.81a\", \"blender2.80\", \"blender2.79b\"] {allow-input: false}\n",
        "gpu_enabled = True #@param {type:\"boolean\"}\n",
        "cpu_enabled = True #@param {type:\"boolean\"}\n",
        "#@markdown ---\n",
        "use_drive = True #@param {type:\"boolean\"}"
      ],
      "execution_count": null,
      "outputs": []
    },
    {
      "cell_type": "markdown",
      "metadata": {
        "id": "JxX9qmT7oNtz"
      },
      "source": [
        "## Google Drive\n",
        "Jalankan kode berikut jika menggunakan Google Drive (mencentang opsi **use_drive** di atas)<br><br>\n",
        "Klik link yang muncul, lalu akan terbuka tab baru, pilih akun Google Drive yang akan disambungkan, klik **Allow**, *copy* kode verifikasi yang muncul dan *paste* di kotak yang disediakan di bawah ini, lalu tekan **[Enter]**."
      ]
    },
    {
      "cell_type": "code",
      "metadata": {
        "id": "QRzNmiHN8Xr0"
      },
      "source": [
        "if use_drive:\n",
        "  from google.colab import drive\n",
        "  drive.mount('/content/drive')"
      ],
      "execution_count": null,
      "outputs": []
    },
    {
      "cell_type": "markdown",
      "metadata": {
        "id": "wRIYHsLL_Dn0"
      },
      "source": [
        "## Persiapan berkas .blend dan folder hasil render"
      ]
    },
    {
      "cell_type": "code",
      "metadata": {
        "cellView": "form",
        "id": "ZZQr2_WE-nba"
      },
      "source": [
        "#@markdown Klik kanan di file manager (panel samping kiri \"Files\") lalu copy path dan paste\n",
        "path_to_blend = '/content/drive/your-folder/your-blend-file.blend'  #@param {type: \"string\"}\n",
        "output_path = '/content/drive/your-folder/output/frame_###'  #@param {type: \"string\"}\n",
        "#@markdown Tanda pagar ### pada output digunakan untuk secara otomatis menambahkan angka frame pada nama berkas hasil render."
      ],
      "execution_count": null,
      "outputs": []
    },
    {
      "cell_type": "markdown",
      "metadata": {
        "id": "c-0g5BOTBFEK"
      },
      "source": [
        "**!!! PERHATIAN !!!**\n",
        "Jalankan lagi kode di atas setelah mengubah isinya!"
      ]
    },
    {
      "cell_type": "markdown",
      "metadata": {
        "id": "xb7ah58-qdPs"
      },
      "source": [
        "# **Proses instalasi Blender pada VM**"
      ]
    },
    {
      "cell_type": "markdown",
      "metadata": {
        "id": "_WGrJshckZM9"
      },
      "source": [
        "**Cukup jalankan kode-kode berikut tanpa perubahan**"
      ]
    },
    {
      "cell_type": "markdown",
      "metadata": {
        "id": "sljCYXSCCS3O"
      },
      "source": [
        "Mengarahkan lokasi unduh Blender:"
      ]
    },
    {
      "cell_type": "code",
      "metadata": {
        "id": "GPJ9fmoB6PWM"
      },
      "source": [
        "if blender_version == \"blender2.79b\":\n",
        "    download_path=\"https://ftp.halifax.rwth-aachen.de/blender/release/Blender2.79/blender-2.79b-linux-glibc219-x86_64.tar.bz2\"\n",
        "elif blender_version == \"blender2.80\":\n",
        "    download_path=\"https://ftp.halifax.rwth-aachen.de/blender/release/Blender2.80/blender-2.80-linux-glibc217-x86_64.tar.bz2\"\n",
        "elif blender_version == \"blender2.81a\":\n",
        "    download_path=\"https://ftp.halifax.rwth-aachen.de/blender/release/Blender2.81/blender-2.81a-linux-glibc217-x86_64.tar.bz2\"\n",
        "elif blender_version == \"blender2.82\":\n",
        "    download_path=\"https://ftp.halifax.rwth-aachen.de/blender/release/Blender2.82/blender-2.82a-linux64.tar.xz\"\n",
        "elif blender_version == \"blender2.83.13\":\n",
        "    download_path=\"https://ftp.halifax.rwth-aachen.de/blender/release/Blender2.83/blender-2.83.13-linux64.tar.xz\"\n",
        "elif blender_version == \"blender2.90.1\":\n",
        "    download_path=\"https://ftp.halifax.rwth-aachen.de/blender/release/Blender2.90/blender-2.90.1-linux64.tar.xz\"\n",
        "elif blender_version == \"blender2.91.2\":\n",
        "    download_path=\"https://ftp.halifax.rwth-aachen.de/blender/release/Blender2.91/blender-2.91.2-linux64.tar.xz\"\n",
        "elif blender_version == \"blender2.92.0\":\n",
        "    download_path=\"https://ftp.halifax.rwth-aachen.de/blender/release/Blender2.92/blender-2.92.0-linux64.tar.xz\""
      ],
      "execution_count": null,
      "outputs": []
    },
    {
      "cell_type": "markdown",
      "metadata": {
        "id": "uU6QrjIKoWvh"
      },
      "source": [
        "Mengunduh, *unpack*, dan memindahkan hasil unpack ke lokasi tertentu:"
      ]
    },
    {
      "cell_type": "code",
      "metadata": {
        "id": "OQ54OjLVjb26"
      },
      "source": [
        "!mkdir $blender_version\n",
        "if blender_version == \"blender2.79b\" or \"blender2.80\" or \"blender2.81a\":\n",
        "    !wget -O '{blender_version}.tar.bz2' -nc $download_path\n",
        "    !tar -xf '{blender_version}.tar.bz2' -C ./$blender_version --strip-components=1\n",
        "else:\n",
        "    !wget -O '{blender_version}.tar.xz' -nc $download_path\n",
        "    !tar xf '{blender_version}.tar.xz' -C ./$blender_version --strip-components=1\n"
      ],
      "execution_count": null,
      "outputs": []
    },
    {
      "cell_type": "markdown",
      "metadata": {
        "id": "s3uIDMZLbYOE"
      },
      "source": [
        "*Mengatasi weird behaviors yang terjadi dengan libtcmalloc yang muncul pada VM Colab*:"
      ]
    },
    {
      "cell_type": "code",
      "metadata": {
        "id": "h6vohA2q2BDF"
      },
      "source": [
        "import os\n",
        "\n",
        "os.environ[\"LD_PRELOAD\"] = \"\"\n",
        "\n",
        "!apt update\n",
        "!apt remove libtcmalloc-minimal4\n",
        "!apt install libtcmalloc-minimal4\n",
        "os.environ[\"LD_PRELOAD\"] = \"/usr/lib/x86_64-linux-gnu/libtcmalloc_minimal.so.4.3.0\"\n",
        "\n",
        "!echo $LD_PRELOAD"
      ],
      "execution_count": null,
      "outputs": []
    },
    {
      "cell_type": "markdown",
      "metadata": {
        "id": "UUwwvaq5BxzN"
      },
      "source": [
        "Dependensi untuk GPU:"
      ]
    },
    {
      "cell_type": "code",
      "metadata": {
        "id": "RU3p_G4hDk97"
      },
      "source": [
        "!apt install libboost-all-dev\n",
        "!apt install libgl1-mesa-dev\n",
        "!apt install libglu1-mesa libsm-dev"
      ],
      "execution_count": null,
      "outputs": []
    },
    {
      "cell_type": "markdown",
      "metadata": {
        "id": "lTWukdzhpyo9"
      },
      "source": [
        "# **Render**"
      ]
    },
    {
      "cell_type": "code",
      "metadata": {
        "id": "h9xSisNXBIbH",
        "cellView": "form"
      },
      "source": [
        "#@title **Pengaturan Render**\n",
        "\n",
        "#@markdown Atur **whatToRender** menjadi:<br>\n",
        "#@markdown + **renderOneFrame** = jika hanya ingin merender 1 frame saja, kemudian isi frame yg diinginkan di bagian _**startFrame**_<br>\n",
        "#@markdown + **renderAllFrame** = jika ingin render semua frame sesuai yang sudah tersimpan di berkas .blend<br>\n",
        "#@markdown + **renderWithinRange** = jika ingin render lebih dari 1 frame, dengan rentang frame tertentu. Isi bagian _**startFrame**_ dan _**endFrame**_\n",
        "\n",
        "whatToRender = 'renderOneFrame' #@param [\"renderOneFrame\", \"renderAllFrame\", \"renderWithinRange\"] {allow-input: false}\n",
        "#@markdown ---\n",
        "startFrame =  1#@param {type: \"integer\"}\n",
        "endFrame =  250#@param {type: \"integer\"}\n",
        "#@markdown ---\n",
        "\n",
        "#@markdown Centang opsi ini jika ingin menimpa beberapa pengaturan bawaan berkas .blend dengan pengaturan di bawah:\n",
        "override_certain_settings = False #@param {type:\"boolean\"}\n",
        "#@markdown Atur jumlah samples, resolusi, dan compression\n",
        "samples =  250#@param {type:\"integer\"}\n",
        "resolution_x = 1280 #@param {type:\"integer\"}\n",
        "resolution_y = 720 #@param {type:\"integer\"}\n",
        "compression_level = \"100\" #@param [\"0\", \"25\", \"50\", \"75\", \"100\"] {allow-input: false}\n",
        "#@markdown **!!! PERHATIAN !!!**<br>\n",
        "#@markdown Jalankan lagi kode ini setelah mengubah isinya.\n",
        "\n",
        "# Membuat skrip untuk menimpa beberapa pengaturan dari berkas .blend\n",
        "override = \"# Override Samples, Resolution, dan Compression settings. True samples count, Squared Samples is disabled\\n\"+\\\n",
        "    \"import bpy\\n\"+\\\n",
        "    \"scene = bpy.context.scene\\n\"+\\\n",
        "    \"scene.cycles.use_square_samples = False\\n\"+\\\n",
        "    \"scene.cycles.samples = \"+str(samples)+\"\\n\"+\\\n",
        "    \"scene.render.resolution_x = \"+str(resolution_x)+\"\\n\"+\\\n",
        "    \"scene.render.resolution_y = \"+str(resolution_y)+\"\\n\"+\\\n",
        "    \"scene.render.image_settings.compression = \"+str(compression_level)+\"\\n\"\n",
        "with open('override_others.py', 'w') as f:\n",
        "    f.write(override)"
      ],
      "execution_count": null,
      "outputs": []
    },
    {
      "cell_type": "markdown",
      "metadata": {
        "id": "gsJnZBjAjflN"
      },
      "source": [
        "## Pembuatan skrip"
      ]
    },
    {
      "cell_type": "markdown",
      "metadata": {
        "id": "Wh4i8msvAanq"
      },
      "source": [
        "Skrip agar Blender bisa menggunakan GPU untuk CUDA dengan baik"
      ]
    },
    {
      "cell_type": "code",
      "metadata": {
        "id": "ADm7K0U0M2vg"
      },
      "source": [
        "data = \"import re\\n\"+\\\n",
        "    \"import bpy\\n\"+\\\n",
        "    \"scene = bpy.context.scene\\n\"+\\\n",
        "    \"scene.cycles.device = 'GPU'\\n\"+\\\n",
        "    \"prefs = bpy.context.preferences\\n\"+\\\n",
        "    \"prefs.addons['cycles'].preferences.get_devices()\\n\"+\\\n",
        "    \"cprefs = prefs.addons['cycles'].preferences\\n\"+\\\n",
        "    \"print(cprefs)\\n\"+\\\n",
        "    \"# Attempt to set GPU device types if available\\n\"+\\\n",
        "    \"for compute_device_type in ('CUDA', 'OPENCL', 'NONE',):\\n\"+\\\n",
        "    \"    try:\\n\"+\\\n",
        "    \"        cprefs.compute_device_type = compute_device_type\\n\"+\\\n",
        "    \"        print('Device found',compute_device_type)\\n\"+\\\n",
        "    \"        break\\n\"+\\\n",
        "    \"    except TypeError:\\n\"+\\\n",
        "    \"        pass\\n\"+\\\n",
        "    \"#for scene in bpy.data.scenes:\\n\"+\\\n",
        "    \"#    scene.render.tile_x = 64\\n\"+\\\n",
        "    \"#    scene.render.tile_y = 64\\n\"+\\\n",
        "    \"# Enable all CPU and GPU devices\\n\"+\\\n",
        "    \"for device in cprefs.devices:\\n\"+\\\n",
        "    \"    if not re.match('intel', device.name, re.I):\\n\"+\\\n",
        "    \"        print('Activating',device)\\n\"+\\\n",
        "    \"        device.use = \"+str(gpu_enabled)+\"\\n\"+\\\n",
        "    \"    else:\\n\"+\\\n",
        "    \"        device.use = \"+str(cpu_enabled)+\"\\n\"\n",
        "with open('setgpu.py', 'w') as f:\n",
        "    f.write(data)"
      ],
      "execution_count": null,
      "outputs": []
    },
    {
      "cell_type": "markdown",
      "metadata": {
        "id": "4NQfl9jqnNEM"
      },
      "source": [
        "## **Render CYCLES dengan CUDA**"
      ]
    },
    {
      "cell_type": "code",
      "metadata": {
        "id": "BIk15rdnCuVu"
      },
      "source": [
        "if override_certain_settings == False:\n",
        "  if whatToRender == 'renderOneFrame':\n",
        "    !sudo ./$blender_version/blender -P './setgpu.py' -b '{path_to_blend}' -noaudio -E CYCLES -o '{output_path}' -F 'PNG' -f {startFrame}\n",
        "  elif whatToRender == 'renderAllFrame':\n",
        "    !sudo ./$blender_version/blender -P './setgpu.py' -b '{path_to_blend}' -noaudio -E CYCLES -o '{output_path}' -F 'PNG' -a\n",
        "  elif whatToRender == 'renderWithinRange':\n",
        "    !sudo ./$blender_version/blender -P './setgpu.py' -b '{path_to_blend}' -noaudio -E CYCLES -o '{output_path}' -F 'PNG' -s {startFrame} -e {endFrame} -a\n",
        "else:\n",
        "  if whatToRender == 'renderOneFrame':\n",
        "    !sudo ./$blender_version/blender -P './setgpu.py' -b '{path_to_blend}' -P './override_others.py' -noaudio -E CYCLES -o '{output_path}' -F 'PNG' -f {startFrame}\n",
        "  elif whatToRender == 'renderAllFrame':\n",
        "    !sudo ./$blender_version/blender -P './setgpu.py' -b '{path_to_blend}' -P './override_others.py' -noaudio -E CYCLES -o '{output_path}' -F 'PNG' -a\n",
        "  elif whatToRender == 'renderWithinRange':\n",
        "    !sudo ./$blender_version/blender -P './setgpu.py' -b '{path_to_blend}' -P './override_others.py' -noaudio -E CYCLES -o '{output_path}' -F 'PNG' -s {startFrame} -e {endFrame} -a"
      ],
      "execution_count": null,
      "outputs": []
    },
    {
      "cell_type": "markdown",
      "metadata": {
        "id": "ypbHQ_-zawyL"
      },
      "source": [
        "## **Render dengan OPTIX**"
      ]
    },
    {
      "cell_type": "markdown",
      "metadata": {
        "id": "jBlDuGlKpZje"
      },
      "source": [
        "tanpa menjalankan skrip setgpu.py"
      ]
    },
    {
      "cell_type": "code",
      "metadata": {
        "id": "IfXCBF3hpc1A"
      },
      "source": [
        "if override_certain_settings == False:\n",
        "  if whatToRender == 'renderOneFrame':\n",
        "    !sudo ./$blender_version/blender -b '{path_to_blend}' -noaudio -E CYCLES -o '{output_path}' -F 'PNG' -f {startFrame} -- --cycles-device OPTIX \n",
        "  elif whatToRender == 'renderAllFrame':\n",
        "    !sudo ./$blender_version/blender -b '{path_to_blend}' -noaudio -E CYCLES -o '{output_path}' -F 'PNG' -a -- --cycles-device OPTIX \n",
        "  elif whatToRender == 'renderWithinRange':\n",
        "    !sudo ./$blender_version/blender -b '{path_to_blend}' -noaudio -E CYCLES -o '{output_path}' -F 'PNG' -s {startFrame} -e {endFrame} -a -- --cycles-device OPTIX \n",
        "else:\n",
        "  if whatToRender == 'renderOneFrame':\n",
        "    !sudo ./$blender_version/blender -b '{path_to_blend}' -P './override_others.py' -noaudio -E CYCLES -o '{output_path}' -F 'PNG' -f {startFrame} -- --cycles-device OPTIX \n",
        "  elif whatToRender == 'renderAllFrame':\n",
        "    !sudo ./$blender_version/blender -b '{path_to_blend}' -P './override_others.py' -noaudio -E CYCLES -o '{output_path}' -F 'PNG' -a -- --cycles-device OPTIX \n",
        "  elif whatToRender == 'renderWithinRange':\n",
        "    !sudo ./$blender_version/blender -b '{path_to_blend}' -P './override_others.py' -noaudio -E CYCLES -o '{output_path}' -F 'PNG' -s {startFrame} -e {endFrame} -a -- --cycles-device OPTIX "
      ],
      "execution_count": null,
      "outputs": []
    },
    {
      "cell_type": "markdown",
      "metadata": {
        "id": "RrCS9NL3ai3T"
      },
      "source": [
        "---\n",
        "# **LAMPIRAN**"
      ]
    },
    {
      "cell_type": "markdown",
      "metadata": {
        "id": "dfjNtiTZ9GLb"
      },
      "source": [
        "## Copyright, License and Modifications Notice"
      ]
    },
    {
      "cell_type": "markdown",
      "metadata": {
        "id": "q0VeMvEGZqT7"
      },
      "source": [
        "    Copyright 2021 Yassir A. P.\n",
        "\n",
        "    Copyright 2021 github.com/donmahallem\n",
        "\n",
        "    Licensed under the Apache License, Version 2.0 (the \"License\"); you may not use this file except in compliance with the License.\n",
        "\n",
        "    You may obtain a copy of the License at\n",
        "\n",
        "    http://www.apache.org/licenses/LICENSE-2.0\n",
        "\n",
        "    This file has been modified to improve workflow, use updated Blender versions, add support for OPTIX rendering, and add options to override settings of Samples, Resolution, and Compression.\n"
      ]
    },
    {
      "cell_type": "markdown",
      "metadata": {
        "id": "V4bft7pB9ZxP"
      },
      "source": [
        "## Pertanyaan? Saran? Request?"
      ]
    },
    {
      "cell_type": "markdown",
      "metadata": {
        "id": "B6NrfdIP9H2g"
      },
      "source": [
        "Jika kalian punya pertanyaan, saran, atau request, silakan menuju [halaman Diskusi repo ini](https://github.com/yassir-a-p/blender-on-colab/discussions). Saya tidak menjanjikan apapun, tapi akan saya coba untuk menjawab pertanyaan yang ada dan mengurus proyek ini. 🙏🏽"
      ]
    }
  ]
}